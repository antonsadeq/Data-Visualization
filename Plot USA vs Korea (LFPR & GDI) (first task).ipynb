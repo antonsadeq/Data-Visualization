{
 "cells": [
  {
   "cell_type": "markdown",
   "id": "90b855c1",
   "metadata": {},
   "source": [
    "# Submission 2 &ndash; Intermediate Submission\n",
    "\n",
    "## Instructions\n",
    "\n",
    "- Fill out the *Basic Information* and the *Results* sections.\n",
    "- Make sure that this `.ipynb` file displays correctly in the GitHub file preview, including any visual output.\n",
    "- If you find that any output does not display correctly, include a static screenshot as an image. For interactive outputs, add a link to a short screencast located in your repository.\n",
    "- Push all required files before the deadline."
   ]
  },
  {
   "cell_type": "markdown",
   "id": "1c01464b-c541-4a12-9416-888a41bf3a7b",
   "metadata": {},
   "source": [
    "$$ MCC = \\frac{TP \\cdot TN - FP \\cdot FN}{\\sqrt{(TP+FP)(TP+FN)(TN+FP)(TN+FN)}} ]"
   ]
  },
  {
   "cell_type": "markdown",
   "id": "8aa83fea-80cf-4296-9765-410daf7c296d",
   "metadata": {},
   "source": [
    "---\n",
    "## Basic Information"
   ]
  },
  {
   "cell_type": "markdown",
   "id": "99b65e2d-2bee-4e12-ac82-8b31b972d850",
   "metadata": {},
   "source": [
    "**Team Name:** AI Creatives"
   ]
  },
  {
   "cell_type": "markdown",
   "id": "230d9ba1-6ba9-4708-b8d8-39d9502fab44",
   "metadata": {},
   "source": [
    "**Team Members:**\n",
    "- Bairam Kuliev\n",
    "- Kilian Kourim\n",
    "- Madhusudhan Dudapu\n",
    "- Anton Sadeq"
   ]
  },
  {
   "cell_type": "markdown",
   "id": "ec9668fc-28d6-4adf-ae4d-aafb4781f936",
   "metadata": {},
   "source": [
    "**Dataset Description:**  \n",
    "(max. 75 words; this serves just as a reminder)"
   ]
  },
  {
   "cell_type": "markdown",
   "id": "4bbce0ac-0a1e-455e-bcd3-5a258cb033ec",
   "metadata": {},
   "source": [
    "Our dataset is the Human Development Report with all composite indices over its complete time.\n",
    "The dataset is about the development of nations from a sociological and economical standpoint. Its attributes are mostly composite indices, but there are also a few one dimensional attributes, which show the development over time for all the countries in the world. As a lot of development has happened in the last 40 years."
   ]
  },
  {
   "cell_type": "markdown",
   "id": "04352fd2-6482-423f-8def-6f713c65c597",
   "metadata": {},
   "source": [
    "---\n",
    "\n",
    "## Code\n",
    "\n",
    "Here you may place any code that is not an immediate part of your submission. Only the content of the *Results* sections will be graded for this submission."
   ]
  },
  {
   "cell_type": "code",
   "execution_count": 94,
   "id": "5b31f150",
   "metadata": {
    "vscode": {
     "languageId": "plaintext"
    }
   },
   "outputs": [],
   "source": [
    "import numpy as np\n",
    "import pandas as pd\n",
    "import matplotlib.pyplot as plt\n",
    "import seaborn as sns\n",
    "import plotly.express as px\n",
    "import plotly.graph_objects as go\n",
    "import altair as alt\n",
    "from sklearn.linear_model import LinearRegression\n",
    "\n",
    "# Preprocessing the dataset:\n",
    "np.random.seed(42)\n",
    "file_path = r\"C:\\Users\\anton\\Downloads\\visualization intermediate submission\\HDR23-24_Composite_indices_complete_time_series.csv\"\n",
    "data = pd.read_csv(file_path, encoding='ISO-8859-1') \n",
    "usa = data.iloc[186]\n",
    "korea = data.iloc[91]\n",
    "usa_df = usa.to_frame().T \n",
    "korea_df = korea.to_frame().T\n",
    "\n",
    "# Extract columns for USA and Korea using filtering\n",
    "usa_lfpr_data = usa_df.filter(regex=r'lfpr_f_\\d{4}')\n",
    "usa_lfpr_m_data = usa_df.filter(regex=r'lfpr_m_\\d{4}')\n",
    "kor_lfpr_data = korea_df.filter(regex=r'lfpr_f_\\d{4}')\n",
    "kor_lfpr_m_data = korea_df.filter(regex=r'lfpr_m_\\d{4}')\n",
    "usa_gnipc_data = usa_df.filter(regex=r'gnipc_\\d{4}')\n",
    "kor_gnipc_data = korea_df.filter(regex=r'gnipc_\\d{4}')\n",
    "\n",
    "# Melt dataframes\n",
    "kor_gnipc_data_melted = kor_gnipc_data.melt(var_name=\"Year\", value_name=\"GNIPC\")\n",
    "usa_gnipc_data_melted = usa_gnipc_data.melt(var_name=\"Year\", value_name=\"GNIPC\")\n",
    "\n",
    "kor_lfpr_data_melted = kor_lfpr_data.melt(var_name=\"Year\", value_name=\"LFPR\")\n",
    "usa_lfpr_data_melted = usa_lfpr_data.melt(var_name=\"Year\", value_name=\"LFPR\")\n",
    "\n",
    "# Add country labels\n",
    "kor_gnipc_data_melted[\"Country\"] = \"Korea\"\n",
    "usa_gnipc_data_melted[\"Country\"] = \"USA\"\n",
    "\n",
    "# Combine GDI data\n",
    "combined_gnipc_data = pd.concat([kor_gnipc_data_melted, usa_gnipc_data_melted], ignore_index=True)\n",
    "\n",
    "# Extract numeric year part and convert to integer\n",
    "combined_gnipc_data[\"Year\"] = combined_gnipc_data[\"Year\"].str.extract(r\"(\\d{4})\").astype(int)\n",
    "\n",
    "# Add country labels\n",
    "kor_lfpr_data_melted[\"Country\"] = \"Korea\"\n",
    "usa_lfpr_data_melted[\"Country\"] = \"USA\"\n",
    "\n",
    "# Combine LFPR data\n",
    "combined_lfpr_data = pd.concat([kor_lfpr_data_melted, usa_lfpr_data_melted], ignore_index=True)\n",
    "\n",
    "# Extract numeric year part and convert to integer\n",
    "combined_lfpr_data[\"Year\"] = combined_lfpr_data[\"Year\"].str.extract(r\"(\\d{4})\").astype(int)\n",
    "\n",
    "# Filter data based on year range for Korea and the USA\n",
    "kor_gnipc_filtered = combined_gnipc_data[(combined_gnipc_data[\"Country\"] == \"Korea\") &\n",
    "                                         (combined_gnipc_data[\"Year\"].between(1994, 2005))]\n",
    "usa_gnipc_filtered = combined_gnipc_data[(combined_gnipc_data[\"Country\"] == \"USA\") &\n",
    "                                         (combined_gnipc_data[\"Year\"].between(2005, 2019))]\n",
    "\n",
    "kor_lfpr_filtered = combined_lfpr_data[(combined_lfpr_data[\"Country\"] == \"Korea\") &\n",
    "                                       (combined_lfpr_data[\"Year\"].between(1994, 2005))]\n",
    "usa_lfpr_filtered = combined_lfpr_data[(combined_lfpr_data[\"Country\"] == \"USA\") &\n",
    "                                       (combined_lfpr_data[\"Year\"].between(2005, 2019))]\n",
    "\n",
    "# Combine the filtered dataframes if needed\n",
    "filtered_gnipc_data = pd.concat([kor_gnipc_filtered, usa_gnipc_filtered], ignore_index=True)\n",
    "filtered_lfpr_data = pd.concat([kor_lfpr_filtered, usa_lfpr_filtered], ignore_index=True)\n"
   ]
  },
  {
   "cell_type": "code",
   "execution_count": 95,
   "id": "f5b927de-c552-40ec-b348-cf9f9102f172",
   "metadata": {},
   "outputs": [
    {
     "data": {
      "application/vnd.plotly.v1+json": {
       "config": {
        "plotlyServerURL": "https://plot.ly"
       },
       "data": [
        {
         "marker": {
          "symbol": "star"
         },
         "mode": "lines+markers",
         "name": "GNIPC (Korea)",
         "type": "scatter",
         "x": [
          1994,
          1995,
          1996,
          1997,
          1998,
          1999,
          2000,
          2001,
          2002,
          2003,
          2004,
          2005
         ],
         "y": [
          16649.35858,
          18043.99441,
          19287.69497,
          20246.02269,
          18907.77671,
          20978.02754,
          22801.04448,
          23724.11341,
          25490.7206,
          26163.70029,
          27465.43359,
          28433.86694
         ],
         "yaxis": "y2"
        },
        {
         "marker": {
          "symbol": "circle"
         },
         "mode": "lines+markers",
         "name": "GNIPC (USA)",
         "type": "scatter",
         "x": [
          2005,
          2006,
          2007,
          2008,
          2009,
          2010,
          2011,
          2012,
          2013,
          2014,
          2015,
          2016,
          2017,
          2018,
          2019
         ],
         "y": [
          54956.44049,
          55812.63757,
          56576.64545,
          56285.75584,
          54379.4261,
          55567.74452,
          56104.46423,
          56913.88058,
          57527.86896,
          58399.97067,
          59469.66152,
          60044.78393,
          61163.32691,
          62579.01601,
          63654.31978
         ],
         "yaxis": "y2"
        },
        {
         "marker": {
          "symbol": "star"
         },
         "mode": "lines+markers",
         "name": "LFPR (Korea)",
         "type": "scatter",
         "x": [
          1994,
          1995,
          1996,
          1997,
          1998,
          1999,
          2000,
          2001,
          2002,
          2003,
          2004,
          2005
         ],
         "y": [
          47.84,
          48.39,
          48.87,
          49.76,
          47.06,
          47.62,
          39.07,
          50.01,
          50.43,
          49.51,
          50.74,
          50.82
         ]
        },
        {
         "marker": {
          "symbol": "circle"
         },
         "mode": "lines+markers",
         "name": "LFPR (USA)",
         "type": "scatter",
         "x": [
          2005,
          2006,
          2007,
          2008,
          2009,
          2010,
          2011,
          2012,
          2013,
          2014,
          2015,
          2016,
          2017,
          2018,
          2019
         ],
         "y": [
          59.26,
          59.36,
          59.31,
          59.47,
          59.19,
          58.62,
          58.1,
          57.68,
          57.21,
          56.97,
          56.68,
          56.8,
          57.04,
          57.08,
          57.43
         ]
        }
       ],
       "layout": {
        "height": 500,
        "legend": {
         "x": 1.1,
         "y": 0.7
        },
        "shapes": [
         {
          "line": {
           "color": "green",
           "dash": "dash",
           "width": 2
          },
          "type": "line",
          "x0": 1997,
          "x1": 1997,
          "xref": "x",
          "y0": 0,
          "y1": 1,
          "yref": "paper"
         },
         {
          "line": {
           "color": "orange",
           "dash": "dash",
           "width": 2
          },
          "type": "line",
          "x0": 2008,
          "x1": 2008,
          "xref": "x",
          "y0": 0,
          "y1": 1,
          "yref": "paper"
         }
        ],
        "template": {
         "data": {
          "bar": [
           {
            "error_x": {
             "color": "#2a3f5f"
            },
            "error_y": {
             "color": "#2a3f5f"
            },
            "marker": {
             "line": {
              "color": "#E5ECF6",
              "width": 0.5
             },
             "pattern": {
              "fillmode": "overlay",
              "size": 10,
              "solidity": 0.2
             }
            },
            "type": "bar"
           }
          ],
          "barpolar": [
           {
            "marker": {
             "line": {
              "color": "#E5ECF6",
              "width": 0.5
             },
             "pattern": {
              "fillmode": "overlay",
              "size": 10,
              "solidity": 0.2
             }
            },
            "type": "barpolar"
           }
          ],
          "carpet": [
           {
            "aaxis": {
             "endlinecolor": "#2a3f5f",
             "gridcolor": "white",
             "linecolor": "white",
             "minorgridcolor": "white",
             "startlinecolor": "#2a3f5f"
            },
            "baxis": {
             "endlinecolor": "#2a3f5f",
             "gridcolor": "white",
             "linecolor": "white",
             "minorgridcolor": "white",
             "startlinecolor": "#2a3f5f"
            },
            "type": "carpet"
           }
          ],
          "choropleth": [
           {
            "colorbar": {
             "outlinewidth": 0,
             "ticks": ""
            },
            "type": "choropleth"
           }
          ],
          "contour": [
           {
            "colorbar": {
             "outlinewidth": 0,
             "ticks": ""
            },
            "colorscale": [
             [
              0,
              "#0d0887"
             ],
             [
              0.1111111111111111,
              "#46039f"
             ],
             [
              0.2222222222222222,
              "#7201a8"
             ],
             [
              0.3333333333333333,
              "#9c179e"
             ],
             [
              0.4444444444444444,
              "#bd3786"
             ],
             [
              0.5555555555555556,
              "#d8576b"
             ],
             [
              0.6666666666666666,
              "#ed7953"
             ],
             [
              0.7777777777777778,
              "#fb9f3a"
             ],
             [
              0.8888888888888888,
              "#fdca26"
             ],
             [
              1,
              "#f0f921"
             ]
            ],
            "type": "contour"
           }
          ],
          "contourcarpet": [
           {
            "colorbar": {
             "outlinewidth": 0,
             "ticks": ""
            },
            "type": "contourcarpet"
           }
          ],
          "heatmap": [
           {
            "colorbar": {
             "outlinewidth": 0,
             "ticks": ""
            },
            "colorscale": [
             [
              0,
              "#0d0887"
             ],
             [
              0.1111111111111111,
              "#46039f"
             ],
             [
              0.2222222222222222,
              "#7201a8"
             ],
             [
              0.3333333333333333,
              "#9c179e"
             ],
             [
              0.4444444444444444,
              "#bd3786"
             ],
             [
              0.5555555555555556,
              "#d8576b"
             ],
             [
              0.6666666666666666,
              "#ed7953"
             ],
             [
              0.7777777777777778,
              "#fb9f3a"
             ],
             [
              0.8888888888888888,
              "#fdca26"
             ],
             [
              1,
              "#f0f921"
             ]
            ],
            "type": "heatmap"
           }
          ],
          "heatmapgl": [
           {
            "colorbar": {
             "outlinewidth": 0,
             "ticks": ""
            },
            "colorscale": [
             [
              0,
              "#0d0887"
             ],
             [
              0.1111111111111111,
              "#46039f"
             ],
             [
              0.2222222222222222,
              "#7201a8"
             ],
             [
              0.3333333333333333,
              "#9c179e"
             ],
             [
              0.4444444444444444,
              "#bd3786"
             ],
             [
              0.5555555555555556,
              "#d8576b"
             ],
             [
              0.6666666666666666,
              "#ed7953"
             ],
             [
              0.7777777777777778,
              "#fb9f3a"
             ],
             [
              0.8888888888888888,
              "#fdca26"
             ],
             [
              1,
              "#f0f921"
             ]
            ],
            "type": "heatmapgl"
           }
          ],
          "histogram": [
           {
            "marker": {
             "pattern": {
              "fillmode": "overlay",
              "size": 10,
              "solidity": 0.2
             }
            },
            "type": "histogram"
           }
          ],
          "histogram2d": [
           {
            "colorbar": {
             "outlinewidth": 0,
             "ticks": ""
            },
            "colorscale": [
             [
              0,
              "#0d0887"
             ],
             [
              0.1111111111111111,
              "#46039f"
             ],
             [
              0.2222222222222222,
              "#7201a8"
             ],
             [
              0.3333333333333333,
              "#9c179e"
             ],
             [
              0.4444444444444444,
              "#bd3786"
             ],
             [
              0.5555555555555556,
              "#d8576b"
             ],
             [
              0.6666666666666666,
              "#ed7953"
             ],
             [
              0.7777777777777778,
              "#fb9f3a"
             ],
             [
              0.8888888888888888,
              "#fdca26"
             ],
             [
              1,
              "#f0f921"
             ]
            ],
            "type": "histogram2d"
           }
          ],
          "histogram2dcontour": [
           {
            "colorbar": {
             "outlinewidth": 0,
             "ticks": ""
            },
            "colorscale": [
             [
              0,
              "#0d0887"
             ],
             [
              0.1111111111111111,
              "#46039f"
             ],
             [
              0.2222222222222222,
              "#7201a8"
             ],
             [
              0.3333333333333333,
              "#9c179e"
             ],
             [
              0.4444444444444444,
              "#bd3786"
             ],
             [
              0.5555555555555556,
              "#d8576b"
             ],
             [
              0.6666666666666666,
              "#ed7953"
             ],
             [
              0.7777777777777778,
              "#fb9f3a"
             ],
             [
              0.8888888888888888,
              "#fdca26"
             ],
             [
              1,
              "#f0f921"
             ]
            ],
            "type": "histogram2dcontour"
           }
          ],
          "mesh3d": [
           {
            "colorbar": {
             "outlinewidth": 0,
             "ticks": ""
            },
            "type": "mesh3d"
           }
          ],
          "parcoords": [
           {
            "line": {
             "colorbar": {
              "outlinewidth": 0,
              "ticks": ""
             }
            },
            "type": "parcoords"
           }
          ],
          "pie": [
           {
            "automargin": true,
            "type": "pie"
           }
          ],
          "scatter": [
           {
            "fillpattern": {
             "fillmode": "overlay",
             "size": 10,
             "solidity": 0.2
            },
            "type": "scatter"
           }
          ],
          "scatter3d": [
           {
            "line": {
             "colorbar": {
              "outlinewidth": 0,
              "ticks": ""
             }
            },
            "marker": {
             "colorbar": {
              "outlinewidth": 0,
              "ticks": ""
             }
            },
            "type": "scatter3d"
           }
          ],
          "scattercarpet": [
           {
            "marker": {
             "colorbar": {
              "outlinewidth": 0,
              "ticks": ""
             }
            },
            "type": "scattercarpet"
           }
          ],
          "scattergeo": [
           {
            "marker": {
             "colorbar": {
              "outlinewidth": 0,
              "ticks": ""
             }
            },
            "type": "scattergeo"
           }
          ],
          "scattergl": [
           {
            "marker": {
             "colorbar": {
              "outlinewidth": 0,
              "ticks": ""
             }
            },
            "type": "scattergl"
           }
          ],
          "scattermapbox": [
           {
            "marker": {
             "colorbar": {
              "outlinewidth": 0,
              "ticks": ""
             }
            },
            "type": "scattermapbox"
           }
          ],
          "scatterpolar": [
           {
            "marker": {
             "colorbar": {
              "outlinewidth": 0,
              "ticks": ""
             }
            },
            "type": "scatterpolar"
           }
          ],
          "scatterpolargl": [
           {
            "marker": {
             "colorbar": {
              "outlinewidth": 0,
              "ticks": ""
             }
            },
            "type": "scatterpolargl"
           }
          ],
          "scatterternary": [
           {
            "marker": {
             "colorbar": {
              "outlinewidth": 0,
              "ticks": ""
             }
            },
            "type": "scatterternary"
           }
          ],
          "surface": [
           {
            "colorbar": {
             "outlinewidth": 0,
             "ticks": ""
            },
            "colorscale": [
             [
              0,
              "#0d0887"
             ],
             [
              0.1111111111111111,
              "#46039f"
             ],
             [
              0.2222222222222222,
              "#7201a8"
             ],
             [
              0.3333333333333333,
              "#9c179e"
             ],
             [
              0.4444444444444444,
              "#bd3786"
             ],
             [
              0.5555555555555556,
              "#d8576b"
             ],
             [
              0.6666666666666666,
              "#ed7953"
             ],
             [
              0.7777777777777778,
              "#fb9f3a"
             ],
             [
              0.8888888888888888,
              "#fdca26"
             ],
             [
              1,
              "#f0f921"
             ]
            ],
            "type": "surface"
           }
          ],
          "table": [
           {
            "cells": {
             "fill": {
              "color": "#EBF0F8"
             },
             "line": {
              "color": "white"
             }
            },
            "header": {
             "fill": {
              "color": "#C8D4E3"
             },
             "line": {
              "color": "white"
             }
            },
            "type": "table"
           }
          ]
         },
         "layout": {
          "annotationdefaults": {
           "arrowcolor": "#2a3f5f",
           "arrowhead": 0,
           "arrowwidth": 1
          },
          "autotypenumbers": "strict",
          "coloraxis": {
           "colorbar": {
            "outlinewidth": 0,
            "ticks": ""
           }
          },
          "colorscale": {
           "diverging": [
            [
             0,
             "#8e0152"
            ],
            [
             0.1,
             "#c51b7d"
            ],
            [
             0.2,
             "#de77ae"
            ],
            [
             0.3,
             "#f1b6da"
            ],
            [
             0.4,
             "#fde0ef"
            ],
            [
             0.5,
             "#f7f7f7"
            ],
            [
             0.6,
             "#e6f5d0"
            ],
            [
             0.7,
             "#b8e186"
            ],
            [
             0.8,
             "#7fbc41"
            ],
            [
             0.9,
             "#4d9221"
            ],
            [
             1,
             "#276419"
            ]
           ],
           "sequential": [
            [
             0,
             "#0d0887"
            ],
            [
             0.1111111111111111,
             "#46039f"
            ],
            [
             0.2222222222222222,
             "#7201a8"
            ],
            [
             0.3333333333333333,
             "#9c179e"
            ],
            [
             0.4444444444444444,
             "#bd3786"
            ],
            [
             0.5555555555555556,
             "#d8576b"
            ],
            [
             0.6666666666666666,
             "#ed7953"
            ],
            [
             0.7777777777777778,
             "#fb9f3a"
            ],
            [
             0.8888888888888888,
             "#fdca26"
            ],
            [
             1,
             "#f0f921"
            ]
           ],
           "sequentialminus": [
            [
             0,
             "#0d0887"
            ],
            [
             0.1111111111111111,
             "#46039f"
            ],
            [
             0.2222222222222222,
             "#7201a8"
            ],
            [
             0.3333333333333333,
             "#9c179e"
            ],
            [
             0.4444444444444444,
             "#bd3786"
            ],
            [
             0.5555555555555556,
             "#d8576b"
            ],
            [
             0.6666666666666666,
             "#ed7953"
            ],
            [
             0.7777777777777778,
             "#fb9f3a"
            ],
            [
             0.8888888888888888,
             "#fdca26"
            ],
            [
             1,
             "#f0f921"
            ]
           ]
          },
          "colorway": [
           "#636efa",
           "#EF553B",
           "#00cc96",
           "#ab63fa",
           "#FFA15A",
           "#19d3f3",
           "#FF6692",
           "#B6E880",
           "#FF97FF",
           "#FECB52"
          ],
          "font": {
           "color": "#2a3f5f"
          },
          "geo": {
           "bgcolor": "white",
           "lakecolor": "white",
           "landcolor": "#E5ECF6",
           "showlakes": true,
           "showland": true,
           "subunitcolor": "white"
          },
          "hoverlabel": {
           "align": "left"
          },
          "hovermode": "closest",
          "mapbox": {
           "style": "light"
          },
          "paper_bgcolor": "white",
          "plot_bgcolor": "#E5ECF6",
          "polar": {
           "angularaxis": {
            "gridcolor": "white",
            "linecolor": "white",
            "ticks": ""
           },
           "bgcolor": "#E5ECF6",
           "radialaxis": {
            "gridcolor": "white",
            "linecolor": "white",
            "ticks": ""
           }
          },
          "scene": {
           "xaxis": {
            "backgroundcolor": "#E5ECF6",
            "gridcolor": "white",
            "gridwidth": 2,
            "linecolor": "white",
            "showbackground": true,
            "ticks": "",
            "zerolinecolor": "white"
           },
           "yaxis": {
            "backgroundcolor": "#E5ECF6",
            "gridcolor": "white",
            "gridwidth": 2,
            "linecolor": "white",
            "showbackground": true,
            "ticks": "",
            "zerolinecolor": "white"
           },
           "zaxis": {
            "backgroundcolor": "#E5ECF6",
            "gridcolor": "white",
            "gridwidth": 2,
            "linecolor": "white",
            "showbackground": true,
            "ticks": "",
            "zerolinecolor": "white"
           }
          },
          "shapedefaults": {
           "line": {
            "color": "#2a3f5f"
           }
          },
          "ternary": {
           "aaxis": {
            "gridcolor": "white",
            "linecolor": "white",
            "ticks": ""
           },
           "baxis": {
            "gridcolor": "white",
            "linecolor": "white",
            "ticks": ""
           },
           "bgcolor": "#E5ECF6",
           "caxis": {
            "gridcolor": "white",
            "linecolor": "white",
            "ticks": ""
           }
          },
          "title": {
           "x": 0.05
          },
          "xaxis": {
           "automargin": true,
           "gridcolor": "white",
           "linecolor": "white",
           "ticks": "",
           "title": {
            "standoff": 15
           },
           "zerolinecolor": "white",
           "zerolinewidth": 2
          },
          "yaxis": {
           "automargin": true,
           "gridcolor": "white",
           "linecolor": "white",
           "ticks": "",
           "title": {
            "standoff": 15
           },
           "zerolinecolor": "white",
           "zerolinewidth": 2
          }
         }
        },
        "title": {
         "text": "GNIPC and LFPR Over Years for USA and Korea"
        },
        "width": 1000,
        "xaxis": {
         "dtick": 2,
         "range": [
          1993,
          2020
         ],
         "tickmode": "linear",
         "title": {
          "text": "Year"
         }
        },
        "yaxis": {
         "tickfont": {
          "color": "blue"
         },
         "title": {
          "font": {
           "color": "blue"
          },
          "text": "LFPR"
         }
        },
        "yaxis2": {
         "anchor": "x",
         "overlaying": "y",
         "side": "right",
         "tickfont": {
          "color": "red"
         },
         "title": {
          "font": {
           "color": "red"
          },
          "text": "GNIPC"
         }
        }
       }
      },
      "image/png": "[encoded data removed]",
      "text/html": [
       "<div>                            <div id=\"fe804311-406c-4598-82bc-9c7c804a743a\" class=\"plotly-graph-div\" style=\"height:500px; width:1000px;\"></div>            <script type=\"text/javascript\">                require([\"plotly\"], function(Plotly) {                    window.PLOTLYENV=window.PLOTLYENV || {};                                    if (document.getElementById(\"fe804311-406c-4598-82bc-9c7c804a743a\")) {                    Plotly.newPlot(                        \"fe804311-406c-4598-82bc-9c7c804a743a\",                        [{\"marker\":{\"symbol\":\"star\"},\"mode\":\"lines+markers\",\"name\":\"GNIPC (Korea)\",\"x\":[1994,1995,1996,1997,1998,1999,2000,2001,2002,2003,2004,2005],\"y\":[16649.35858,18043.99441,19287.69497,20246.02269,18907.77671,20978.02754,22801.04448,23724.11341,25490.7206,26163.70029,27465.43359,28433.86694],\"yaxis\":\"y2\",\"type\":\"scatter\"},{\"marker\":{\"symbol\":\"circle\"},\"mode\":\"lines+markers\",\"name\":\"GNIPC (USA)\",\"x\":[2005,2006,2007,2008,2009,2010,2011,2012,2013,2014,2015,2016,2017,2018,2019],\"y\":[54956.44049,55812.63757,56576.64545,56285.75584,54379.4261,55567.74452,56104.46423,56913.88058,57527.86896,58399.97067,59469.66152,60044.78393,61163.32691,62579.01601,63654.31978],\"yaxis\":\"y2\",\"type\":\"scatter\"},{\"marker\":{\"symbol\":\"star\"},\"mode\":\"lines+markers\",\"name\":\"LFPR (Korea)\",\"x\":[1994,1995,1996,1997,1998,1999,2000,2001,2002,2003,2004,2005],\"y\":[47.84,48.39,48.87,49.76,47.06,47.62,39.07,50.01,50.43,49.51,50.74,50.82],\"type\":\"scatter\"},{\"marker\":{\"symbol\":\"circle\"},\"mode\":\"lines+markers\",\"name\":\"LFPR (USA)\",\"x\":[2005,2006,2007,2008,2009,2010,2011,2012,2013,2014,2015,2016,2017,2018,2019],\"y\":[59.26,59.36,59.31,59.47,59.19,58.62,58.1,57.68,57.21,56.97,56.68,56.8,57.04,57.08,57.43],\"type\":\"scatter\"}],                        {\"template\":{\"data\":{\"histogram2dcontour\":[{\"type\":\"histogram2dcontour\",\"colorbar\":{\"outlinewidth\":0,\"ticks\":\"\"},\"colorscale\":[[0.0,\"#0d0887\"],[0.1111111111111111,\"#46039f\"],[0.2222222222222222,\"#7201a8\"],[0.3333333333333333,\"#9c179e\"],[0.4444444444444444,\"#bd3786\"],[0.5555555555555556,\"#d8576b\"],[0.6666666666666666,\"#ed7953\"],[0.7777777777777778,\"#fb9f3a\"],[0.8888888888888888,\"#fdca26\"],[1.0,\"#f0f921\"]]}],\"choropleth\":[{\"type\":\"choropleth\",\"colorbar\":{\"outlinewidth\":0,\"ticks\":\"\"}}],\"histogram2d\":[{\"type\":\"histogram2d\",\"colorbar\":{\"outlinewidth\":0,\"ticks\":\"\"},\"colorscale\":[[0.0,\"#0d0887\"],[0.1111111111111111,\"#46039f\"],[0.2222222222222222,\"#7201a8\"],[0.3333333333333333,\"#9c179e\"],[0.4444444444444444,\"#bd3786\"],[0.5555555555555556,\"#d8576b\"],[0.6666666666666666,\"#ed7953\"],[0.7777777777777778,\"#fb9f3a\"],[0.8888888888888888,\"#fdca26\"],[1.0,\"#f0f921\"]]}],\"heatmap\":[{\"type\":\"heatmap\",\"colorbar\":{\"outlinewidth\":0,\"ticks\":\"\"},\"colorscale\":[[0.0,\"#0d0887\"],[0.1111111111111111,\"#46039f\"],[0.2222222222222222,\"#7201a8\"],[0.3333333333333333,\"#9c179e\"],[0.4444444444444444,\"#bd3786\"],[0.5555555555555556,\"#d8576b\"],[0.6666666666666666,\"#ed7953\"],[0.7777777777777778,\"#fb9f3a\"],[0.8888888888888888,\"#fdca26\"],[1.0,\"#f0f921\"]]}],\"heatmapgl\":[{\"type\":\"heatmapgl\",\"colorbar\":{\"outlinewidth\":0,\"ticks\":\"\"},\"colorscale\":[[0.0,\"#0d0887\"],[0.1111111111111111,\"#46039f\"],[0.2222222222222222,\"#7201a8\"],[0.3333333333333333,\"#9c179e\"],[0.4444444444444444,\"#bd3786\"],[0.5555555555555556,\"#d8576b\"],[0.6666666666666666,\"#ed7953\"],[0.7777777777777778,\"#fb9f3a\"],[0.8888888888888888,\"#fdca26\"],[1.0,\"#f0f921\"]]}],\"contourcarpet\":[{\"type\":\"contourcarpet\",\"colorbar\":{\"outlinewidth\":0,\"ticks\":\"\"}}],\"contour\":[{\"type\":\"contour\",\"colorbar\":{\"outlinewidth\":0,\"ticks\":\"\"},\"colorscale\":[[0.0,\"#0d0887\"],[0.1111111111111111,\"#46039f\"],[0.2222222222222222,\"#7201a8\"],[0.3333333333333333,\"#9c179e\"],[0.4444444444444444,\"#bd3786\"],[0.5555555555555556,\"#d8576b\"],[0.6666666666666666,\"#ed7953\"],[0.7777777777777778,\"#fb9f3a\"],[0.8888888888888888,\"#fdca26\"],[1.0,\"#f0f921\"]]}],\"surface\":[{\"type\":\"surface\",\"colorbar\":{\"outlinewidth\":0,\"ticks\":\"\"},\"colorscale\":[[0.0,\"#0d0887\"],[0.1111111111111111,\"#46039f\"],[0.2222222222222222,\"#7201a8\"],[0.3333333333333333,\"#9c179e\"],[0.4444444444444444,\"#bd3786\"],[0.5555555555555556,\"#d8576b\"],[0.6666666666666666,\"#ed7953\"],[0.7777777777777778,\"#fb9f3a\"],[0.8888888888888888,\"#fdca26\"],[1.0,\"#f0f921\"]]}],\"mesh3d\":[{\"type\":\"mesh3d\",\"colorbar\":{\"outlinewidth\":0,\"ticks\":\"\"}}],\"scatter\":[{\"fillpattern\":{\"fillmode\":\"overlay\",\"size\":10,\"solidity\":0.2},\"type\":\"scatter\"}],\"parcoords\":[{\"type\":\"parcoords\",\"line\":{\"colorbar\":{\"outlinewidth\":0,\"ticks\":\"\"}}}],\"scatterpolargl\":[{\"type\":\"scatterpolargl\",\"marker\":{\"colorbar\":{\"outlinewidth\":0,\"ticks\":\"\"}}}],\"bar\":[{\"error_x\":{\"color\":\"#2a3f5f\"},\"error_y\":{\"color\":\"#2a3f5f\"},\"marker\":{\"line\":{\"color\":\"#E5ECF6\",\"width\":0.5},\"pattern\":{\"fillmode\":\"overlay\",\"size\":10,\"solidity\":0.2}},\"type\":\"bar\"}],\"scattergeo\":[{\"type\":\"scattergeo\",\"marker\":{\"colorbar\":{\"outlinewidth\":0,\"ticks\":\"\"}}}],\"scatterpolar\":[{\"type\":\"scatterpolar\",\"marker\":{\"colorbar\":{\"outlinewidth\":0,\"ticks\":\"\"}}}],\"histogram\":[{\"marker\":{\"pattern\":{\"fillmode\":\"overlay\",\"size\":10,\"solidity\":0.2}},\"type\":\"histogram\"}],\"scattergl\":[{\"type\":\"scattergl\",\"marker\":{\"colorbar\":{\"outlinewidth\":0,\"ticks\":\"\"}}}],\"scatter3d\":[{\"type\":\"scatter3d\",\"line\":{\"colorbar\":{\"outlinewidth\":0,\"ticks\":\"\"}},\"marker\":{\"colorbar\":{\"outlinewidth\":0,\"ticks\":\"\"}}}],\"scattermapbox\":[{\"type\":\"scattermapbox\",\"marker\":{\"colorbar\":{\"outlinewidth\":0,\"ticks\":\"\"}}}],\"scatterternary\":[{\"type\":\"scatterternary\",\"marker\":{\"colorbar\":{\"outlinewidth\":0,\"ticks\":\"\"}}}],\"scattercarpet\":[{\"type\":\"scattercarpet\",\"marker\":{\"colorbar\":{\"outlinewidth\":0,\"ticks\":\"\"}}}],\"carpet\":[{\"aaxis\":{\"endlinecolor\":\"#2a3f5f\",\"gridcolor\":\"white\",\"linecolor\":\"white\",\"minorgridcolor\":\"white\",\"startlinecolor\":\"#2a3f5f\"},\"baxis\":{\"endlinecolor\":\"#2a3f5f\",\"gridcolor\":\"white\",\"linecolor\":\"white\",\"minorgridcolor\":\"white\",\"startlinecolor\":\"#2a3f5f\"},\"type\":\"carpet\"}],\"table\":[{\"cells\":{\"fill\":{\"color\":\"#EBF0F8\"},\"line\":{\"color\":\"white\"}},\"header\":{\"fill\":{\"color\":\"#C8D4E3\"},\"line\":{\"color\":\"white\"}},\"type\":\"table\"}],\"barpolar\":[{\"marker\":{\"line\":{\"color\":\"#E5ECF6\",\"width\":0.5},\"pattern\":{\"fillmode\":\"overlay\",\"size\":10,\"solidity\":0.2}},\"type\":\"barpolar\"}],\"pie\":[{\"automargin\":true,\"type\":\"pie\"}]},\"layout\":{\"autotypenumbers\":\"strict\",\"colorway\":[\"#636efa\",\"#EF553B\",\"#00cc96\",\"#ab63fa\",\"#FFA15A\",\"#19d3f3\",\"#FF6692\",\"#B6E880\",\"#FF97FF\",\"#FECB52\"],\"font\":{\"color\":\"#2a3f5f\"},\"hovermode\":\"closest\",\"hoverlabel\":{\"align\":\"left\"},\"paper_bgcolor\":\"white\",\"plot_bgcolor\":\"#E5ECF6\",\"polar\":{\"bgcolor\":\"#E5ECF6\",\"angularaxis\":{\"gridcolor\":\"white\",\"linecolor\":\"white\",\"ticks\":\"\"},\"radialaxis\":{\"gridcolor\":\"white\",\"linecolor\":\"white\",\"ticks\":\"\"}},\"ternary\":{\"bgcolor\":\"#E5ECF6\",\"aaxis\":{\"gridcolor\":\"white\",\"linecolor\":\"white\",\"ticks\":\"\"},\"baxis\":{\"gridcolor\":\"white\",\"linecolor\":\"white\",\"ticks\":\"\"},\"caxis\":{\"gridcolor\":\"white\",\"linecolor\":\"white\",\"ticks\":\"\"}},\"coloraxis\":{\"colorbar\":{\"outlinewidth\":0,\"ticks\":\"\"}},\"colorscale\":{\"sequential\":[[0.0,\"#0d0887\"],[0.1111111111111111,\"#46039f\"],[0.2222222222222222,\"#7201a8\"],[0.3333333333333333,\"#9c179e\"],[0.4444444444444444,\"#bd3786\"],[0.5555555555555556,\"#d8576b\"],[0.6666666666666666,\"#ed7953\"],[0.7777777777777778,\"#fb9f3a\"],[0.8888888888888888,\"#fdca26\"],[1.0,\"#f0f921\"]],\"sequentialminus\":[[0.0,\"#0d0887\"],[0.1111111111111111,\"#46039f\"],[0.2222222222222222,\"#7201a8\"],[0.3333333333333333,\"#9c179e\"],[0.4444444444444444,\"#bd3786\"],[0.5555555555555556,\"#d8576b\"],[0.6666666666666666,\"#ed7953\"],[0.7777777777777778,\"#fb9f3a\"],[0.8888888888888888,\"#fdca26\"],[1.0,\"#f0f921\"]],\"diverging\":[[0,\"#8e0152\"],[0.1,\"#c51b7d\"],[0.2,\"#de77ae\"],[0.3,\"#f1b6da\"],[0.4,\"#fde0ef\"],[0.5,\"#f7f7f7\"],[0.6,\"#e6f5d0\"],[0.7,\"#b8e186\"],[0.8,\"#7fbc41\"],[0.9,\"#4d9221\"],[1,\"#276419\"]]},\"xaxis\":{\"gridcolor\":\"white\",\"linecolor\":\"white\",\"ticks\":\"\",\"title\":{\"standoff\":15},\"zerolinecolor\":\"white\",\"automargin\":true,\"zerolinewidth\":2},\"yaxis\":{\"gridcolor\":\"white\",\"linecolor\":\"white\",\"ticks\":\"\",\"title\":{\"standoff\":15},\"zerolinecolor\":\"white\",\"automargin\":true,\"zerolinewidth\":2},\"scene\":{\"xaxis\":{\"backgroundcolor\":\"#E5ECF6\",\"gridcolor\":\"white\",\"linecolor\":\"white\",\"showbackground\":true,\"ticks\":\"\",\"zerolinecolor\":\"white\",\"gridwidth\":2},\"yaxis\":{\"backgroundcolor\":\"#E5ECF6\",\"gridcolor\":\"white\",\"linecolor\":\"white\",\"showbackground\":true,\"ticks\":\"\",\"zerolinecolor\":\"white\",\"gridwidth\":2},\"zaxis\":{\"backgroundcolor\":\"#E5ECF6\",\"gridcolor\":\"white\",\"linecolor\":\"white\",\"showbackground\":true,\"ticks\":\"\",\"zerolinecolor\":\"white\",\"gridwidth\":2}},\"shapedefaults\":{\"line\":{\"color\":\"#2a3f5f\"}},\"annotationdefaults\":{\"arrowcolor\":\"#2a3f5f\",\"arrowhead\":0,\"arrowwidth\":1},\"geo\":{\"bgcolor\":\"white\",\"landcolor\":\"#E5ECF6\",\"subunitcolor\":\"white\",\"showland\":true,\"showlakes\":true,\"lakecolor\":\"white\"},\"title\":{\"x\":0.05},\"mapbox\":{\"style\":\"light\"}}},\"shapes\":[{\"line\":{\"color\":\"green\",\"dash\":\"dash\",\"width\":2},\"type\":\"line\",\"x0\":1997,\"x1\":1997,\"xref\":\"x\",\"y0\":0,\"y1\":1,\"yref\":\"paper\"},{\"line\":{\"color\":\"orange\",\"dash\":\"dash\",\"width\":2},\"type\":\"line\",\"x0\":2008,\"x1\":2008,\"xref\":\"x\",\"y0\":0,\"y1\":1,\"yref\":\"paper\"}],\"xaxis\":{\"title\":{\"text\":\"Year\"},\"tickmode\":\"linear\",\"dtick\":2,\"range\":[1993,2020]},\"yaxis\":{\"title\":{\"text\":\"LFPR\",\"font\":{\"color\":\"blue\"}},\"tickfont\":{\"color\":\"blue\"}},\"yaxis2\":{\"title\":{\"text\":\"GNIPC\",\"font\":{\"color\":\"red\"}},\"tickfont\":{\"color\":\"red\"},\"anchor\":\"x\",\"overlaying\":\"y\",\"side\":\"right\"},\"legend\":{\"x\":1.1,\"y\":0.7},\"title\":{\"text\":\"GNIPC and LFPR Over Years for USA and Korea\"},\"width\":1000,\"height\":500},                        {\"responsive\": true}                    ).then(function(){\n",
       "                            \n",
       "var gd = document.getElementById('fe804311-406c-4598-82bc-9c7c804a743a');\n",
       "var x = new MutationObserver(function (mutations, observer) {{\n",
       "        var display = window.getComputedStyle(gd).display;\n",
       "        if (!display || display === 'none') {{\n",
       "            console.log([gd, 'removed!']);\n",
       "            Plotly.purge(gd);\n",
       "            observer.disconnect();\n",
       "        }}\n",
       "}});\n",
       "\n",
       "// Listen for the removal of the full notebook cells\n",
       "var notebookContainer = gd.closest('#notebook-container');\n",
       "if (notebookContainer) {{\n",
       "    x.observe(notebookContainer, {childList: true});\n",
       "}}\n",
       "\n",
       "// Listen for the clearing of the current output cell\n",
       "var outputEl = gd.closest('.output');\n",
       "if (outputEl) {{\n",
       "    x.observe(outputEl, {childList: true});\n",
       "}}\n",
       "\n",
       "                        })                };                });            </script>        </div>"
      ]
     },
     "metadata": {},
     "output_type": "display_data"
    }
   ],
   "source": [
    "fig = go.Figure()\n",
    "\n",
    "# Plot GNIPC data\n",
    "for country in filtered_gnipc_data[\"Country\"].unique():\n",
    "    country_data = filtered_gnipc_data[filtered_gnipc_data[\"Country\"] == country]\n",
    "    fig.add_trace(go.Scatter(\n",
    "        x=country_data[\"Year\"],\n",
    "        y=country_data[\"GNIPC\"],\n",
    "        mode='lines+markers',\n",
    "        name=f\"GNIPC ({country})\",\n",
    "        marker=dict(symbol=\"circle\" if country == \"USA\" else \"star\"),\n",
    "        yaxis=\"y2\"\n",
    "    ))\n",
    "\n",
    "# Plot LFPR data\n",
    "for country in filtered_lfpr_data[\"Country\"].unique():\n",
    "    country_data = filtered_lfpr_data[filtered_lfpr_data[\"Country\"] == country]\n",
    "    fig.add_trace(go.Scatter(\n",
    "        x=country_data[\"Year\"],\n",
    "        y=country_data[\"LFPR\"],\n",
    "        mode='lines+markers',\n",
    "        name=f\"LFPR ({country})\",\n",
    "        marker=dict(symbol=\"circle\" if country == \"USA\" else \"star\")\n",
    "    ))\n",
    "\n",
    "# Add vertical lines for 1997 (South Korea) and 2008 (USA)\n",
    "fig.add_shape(\n",
    "    type=\"line\",\n",
    "    x0=1997, x1=1997, y0=0, y1=1,\n",
    "    line=dict(color=\"green\", width=2, dash=\"dash\"),\n",
    "    xref=\"x\", yref=\"paper\"\n",
    ")\n",
    "fig.add_shape(\n",
    "    type=\"line\",\n",
    "    x0=2008, x1=2008, y0=0, y1=1,\n",
    "    line=dict(color=\"orange\", width=2, dash=\"dash\"),\n",
    "    xref=\"x\", yref=\"paper\"\n",
    ")\n",
    "\n",
    "# Update x-axis to show all years explicitly\n",
    "fig.update_layout(\n",
    "    title=\"GNIPC and LFPR Over Years for USA and Korea\",\n",
    "    xaxis=dict(\n",
    "        title=\"Year\",\n",
    "        tickmode=\"linear\",\n",
    "        dtick=2,  # Increment by 1 year\n",
    "        range=[min(filtered_gnipc_data[\"Year\"].min(), filtered_lfpr_data[\"Year\"].min()) - 1, \n",
    "               max(filtered_gnipc_data[\"Year\"].max(), filtered_lfpr_data[\"Year\"].max()) + 1]\n",
    "    ),\n",
    "    yaxis=dict(title=\"LFPR\", titlefont=dict(color=\"blue\"), tickfont=dict(color=\"blue\")),\n",
    "    yaxis2=dict(\n",
    "        title=\"GNIPC\",\n",
    "        titlefont=dict(color=\"red\"),\n",
    "        tickfont=dict(color=\"red\"),\n",
    "        anchor=\"x\",\n",
    "        overlaying=\"y\",\n",
    "        side=\"right\"\n",
    "    ),\n",
    "    legend=dict(x=1.1, y=0.7),\n",
    "    width=1000,\n",
    "    height=500\n",
    ")\n",
    "\n",
    "# Show the plot\n",
    "fig.show()\n"
   ]
  },
  {
   "cell_type": "markdown",
   "id": "c6ce32bc",
   "metadata": {},
   "source": [
    "---\n",
    "## Results &ndash; Simple Hypotheses/Tasks"
   ]
  },
  {
   "cell_type": "markdown",
   "id": "2b170d32-4ad8-479c-aae8-35b9b816db82",
   "metadata": {
    "tags": []
   },
   "source": [
    "### A.1\n",
    "\n",
    "Restate your hypothesis/task below."
   ]
  },
  {
   "cell_type": "markdown",
   "id": "19e7220b",
   "metadata": {},
   "source": [
    "**Hypthesis/Task A.1:** TODO"
   ]
  },
  {
   "cell_type": "markdown",
   "id": "88cef7c6",
   "metadata": {},
   "source": [
    "Place your visualizations below (max. 2). Make sure that everyting displays correctly in the GitHub file preview."
   ]
  },
  {
   "cell_type": "code",
   "execution_count": null,
   "id": "f8b30415-1720-4abf-ab98-b184683eb8dd",
   "metadata": {},
   "outputs": [],
   "source": [
    "# TODO"
   ]
  },
  {
   "cell_type": "markdown",
   "id": "cb7a2861-c731-4858-8ca9-4fca8e5190ae",
   "metadata": {},
   "source": [
    "Describe your visualizations and findings. Be clear which chart(s) you are referring to and relate your findings to the hypothesis/task.\n",
    "Use no more than 150 words and indicate the word count of your description below."
   ]
  },
  {
   "cell_type": "markdown",
   "id": "45801f81-8025-4af6-b318-836c50d56edd",
   "metadata": {},
   "source": [
    "**Description:** TODO\n",
    "\n",
    "**Word count**: TODO"
   ]
  },
  {
   "cell_type": "markdown",
   "id": "75ef0baf",
   "metadata": {},
   "source": [
    "### A.2\n",
    "\n",
    "Restate your hypothesis/task below."
   ]
  },
  {
   "cell_type": "markdown",
   "id": "9cce0167",
   "metadata": {},
   "source": [
    "**Hypthesis/Task A.2:** TODO"
   ]
  },
  {
   "cell_type": "markdown",
   "id": "179cd61e",
   "metadata": {},
   "source": [
    "Place your visualizations below (max. 2). Make sure that everyting displays correctly in the GitHub file preview."
   ]
  },
  {
   "cell_type": "code",
   "execution_count": null,
   "id": "93e3f05a-d8e2-4056-beb4-cbd512b6e198",
   "metadata": {},
   "outputs": [],
   "source": [
    "# TODO"
   ]
  },
  {
   "cell_type": "markdown",
   "id": "43da1e21",
   "metadata": {},
   "source": [
    "Describe your visualizations and findings. Be clear which chart(s) you are referring to and relate your findings to the hypothesis/task. Use no more than 150 words and indicate the word count of your description below."
   ]
  },
  {
   "cell_type": "markdown",
   "id": "f7aac895",
   "metadata": {},
   "source": [
    "**Description:** TODO\n",
    "\n",
    "**Word count**: TODO"
   ]
  }
 ],
 "metadata": {
  "kernelspec": {
   "display_name": "Python 3 (ipykernel)",
   "language": "python",
   "name": "python3"
  },
  "language_info": {
   "codemirror_mode": {
    "name": "ipython",
    "version": 3
   },
   "file_extension": ".py",
   "mimetype": "text/x-python",
   "name": "python",
   "nbconvert_exporter": "python",
   "pygments_lexer": "ipython3",
   "version": "3.11.10"
  }
 },
 "nbformat": 4,
 "nbformat_minor": 5
}
